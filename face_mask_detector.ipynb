{
 "cells": [
  {
   "cell_type": "code",
   "execution_count": 1,
   "metadata": {},
   "outputs": [
    {
     "name": "stderr",
     "output_type": "stream",
     "text": [
      "Using TensorFlow backend.\n"
     ]
    }
   ],
   "source": [
    "import numpy as np # linear algebra\n",
    "import pandas as pd # data processing, CSV file I/O (e.g. pd.read_csv)\n",
    "\n",
    "import matplotlib.pyplot as plt\n",
    "import seaborn as sns\n",
    "\n",
    "from sklearn.model_selection import train_test_split\n",
    "\n",
    "import tensorflow as tf\n",
    "\n",
    "from keras.models import Sequential, Model, Input\n",
    "from keras.layers import Conv2D, GlobalAveragePooling2D, Dropout, Dense\n",
    "\n",
    "from keras.applications import resnet50, mobilenet\n",
    "from keras.applications.mobilenet import preprocess_input\n",
    "\n",
    "from keras.preprocessing.image import ImageDataGenerator, img_to_array, load_img\n",
    "\n",
    "from keras.utils import to_categorical\n",
    "\n",
    "import cv2"
   ]
  },
  {
   "cell_type": "code",
   "execution_count": 4,
   "metadata": {},
   "outputs": [],
   "source": [
    "from imutils import paths\n",
    "imagePaths = list(paths.list_images('dataset/'))\n",
    "data = []\n",
    "labels = []"
   ]
  },
  {
   "cell_type": "code",
   "execution_count": 7,
   "metadata": {},
   "outputs": [],
   "source": [
    "for imagePath in imagePaths:\n",
    "\t# extract the class label from the filename\n",
    "\tlabel = imagePath.split(os.path.sep)[-2]\n",
    "\t# load the input image (224x224) and preprocess it\n",
    "\timage = load_img(imagePath, target_size=(224, 224))\n",
    "\timage = img_to_array(image)\n",
    "\timage = preprocess_input(image)\n",
    "\t# update the data and labels lists, respectively\n",
    "\tdata.append(image)\n",
    "\tlabels.append(label)\n",
    "# convert the data and labels to NumPy arrays\n",
    "data = np.array(data, dtype=\"float32\")\n",
    "labels = np.array(labels)"
   ]
  },
  {
   "cell_type": "code",
   "execution_count": 9,
   "metadata": {},
   "outputs": [
    {
     "data": {
      "text/plain": [
       "array(['dataset/without_mask', 'dataset/without_mask',\n",
       "       'dataset/without_mask', ..., 'dataset/with_mask',\n",
       "       'dataset/with_mask', 'dataset/with_mask'], dtype='<U20')"
      ]
     },
     "execution_count": 9,
     "metadata": {},
     "output_type": "execute_result"
    }
   ],
   "source": [
    "labels"
   ]
  },
  {
   "cell_type": "code",
   "execution_count": 11,
   "metadata": {},
   "outputs": [],
   "source": [
    "from sklearn.preprocessing import LabelBinarizer\n",
    "lb = LabelBinarizer()\n",
    "labels = lb.fit_transform(labels)\n",
    "labels = to_categorical(labels)"
   ]
  },
  {
   "cell_type": "code",
   "execution_count": 12,
   "metadata": {},
   "outputs": [
    {
     "data": {
      "text/plain": [
       "array([[0., 1.],\n",
       "       [0., 1.],\n",
       "       [0., 1.],\n",
       "       ...,\n",
       "       [1., 0.],\n",
       "       [1., 0.],\n",
       "       [1., 0.]], dtype=float32)"
      ]
     },
     "execution_count": 12,
     "metadata": {},
     "output_type": "execute_result"
    }
   ],
   "source": [
    "labels"
   ]
  },
  {
   "cell_type": "code",
   "execution_count": 14,
   "metadata": {},
   "outputs": [],
   "source": [
    "(trainX, testX, trainY, testY) = train_test_split(data, labels,\n",
    "\ttest_size=0.20, stratify=labels, random_state=42)"
   ]
  },
  {
   "cell_type": "code",
   "execution_count": 15,
   "metadata": {},
   "outputs": [],
   "source": [
    "# construct the training image generator for data augmentation\n",
    "aug = ImageDataGenerator(\n",
    "\trotation_range=20,\n",
    "\tzoom_range=0.15,\n",
    "\twidth_shift_range=0.2,\n",
    "\theight_shift_range=0.2,\n",
    "\tshear_range=0.15,\n",
    "\thorizontal_flip=True,\n",
    "\tfill_mode=\"nearest\")"
   ]
  },
  {
   "cell_type": "code",
   "execution_count": 16,
   "metadata": {},
   "outputs": [],
   "source": [
    "aug.fit(trainX)"
   ]
  },
  {
   "cell_type": "code",
   "execution_count": 17,
   "metadata": {},
   "outputs": [
    {
     "name": "stdout",
     "output_type": "stream",
     "text": [
      "Downloading data from https://github.com/fchollet/deep-learning-models/releases/download/v0.6/mobilenet_1_0_224_tf_no_top.h5\n",
      "17227776/17225924 [==============================] - 8s 0us/step\n"
     ]
    }
   ],
   "source": [
    "mobilenet_model = mobilenet.MobileNet(input_shape = (224, 224, 3), weights='imagenet', include_top=False)"
   ]
  },
  {
   "cell_type": "code",
   "execution_count": 22,
   "metadata": {},
   "outputs": [
    {
     "name": "stdout",
     "output_type": "stream",
     "text": [
      "Model: \"model_2\"\n",
      "_________________________________________________________________\n",
      "Layer (type)                 Output Shape              Param #   \n",
      "=================================================================\n",
      "input_3 (InputLayer)         (None, 224, 224, 3)       0         \n",
      "_________________________________________________________________\n",
      "mobilenet_1.00_224 (Model)   (None, 7, 7, 1024)        3228864   \n",
      "_________________________________________________________________\n",
      "global_average_pooling2d_2 ( (None, 1024)              0         \n",
      "_________________________________________________________________\n",
      "dense_4 (Dense)              (None, 1024)              1049600   \n",
      "_________________________________________________________________\n",
      "dropout_2 (Dropout)          (None, 1024)              0         \n",
      "_________________________________________________________________\n",
      "dense_5 (Dense)              (None, 512)               524800    \n",
      "_________________________________________________________________\n",
      "dense_6 (Dense)              (None, 2)                 1026      \n",
      "=================================================================\n",
      "Total params: 4,804,290\n",
      "Trainable params: 1,575,426\n",
      "Non-trainable params: 3,228,864\n",
      "_________________________________________________________________\n"
     ]
    }
   ],
   "source": [
    "#inputs  = mobilenet_model.input\n",
    "\n",
    "inputs = Input(shape=(224, 224, 3))\n",
    "x = mobilenet_model(inputs)\n",
    "x = GlobalAveragePooling2D()(x)\n",
    "x = Dense(1024, activation='relu')(x) # we add dense layers so that the model can learn more complex functions and classify for better results.\n",
    "x = Dropout(0.5)(x) # to avoid overfitting\n",
    "x = Dense(512, activation='relu')(x) # dense layer 2\n",
    "\n",
    "outputs = Dense(2, activation='softmax')(x)\n",
    "\n",
    "model = Model(inputs=inputs, outputs=outputs)\n",
    "\n",
    "model.layers[1].trainable = False\n",
    "\n",
    "model.summary()"
   ]
  },
  {
   "cell_type": "code",
   "execution_count": 23,
   "metadata": {},
   "outputs": [
    {
     "name": "stdout",
     "output_type": "stream",
     "text": [
      "[INFO] compiling model...\n"
     ]
    }
   ],
   "source": [
    "# initialize the initial learning rate, number of epochs to train for,\n",
    "# and batch size\n",
    "INIT_LR = 1e-4\n",
    "EPOCHS = 20\n",
    "BS = 32\n",
    "\n",
    "\n",
    "\n",
    "# compile our model\n",
    "from tensorflow.keras.optimizers import Adam\n",
    "print(\"[INFO] compiling model...\")\n",
    "opt = Adam(lr=INIT_LR, decay=INIT_LR / EPOCHS)\n",
    "model.compile(loss=\"binary_crossentropy\", optimizer=opt,metrics=[\"accuracy\"])"
   ]
  },
  {
   "cell_type": "code",
   "execution_count": 24,
   "metadata": {
    "scrolled": true
   },
   "outputs": [
    {
     "name": "stdout",
     "output_type": "stream",
     "text": [
      "[INFO] training head...\n",
      "Epoch 1/20\n",
      "34/34 [==============================] - 190s 6s/step - loss: 0.3317 - accuracy: 0.8642 - val_loss: 0.0864 - val_accuracy: 0.9674\n",
      "Epoch 2/20\n",
      "34/34 [==============================] - 146s 4s/step - loss: 0.0973 - accuracy: 0.9672 - val_loss: 0.0349 - val_accuracy: 0.9928\n",
      "Epoch 3/20\n",
      "34/34 [==============================] - 153s 5s/step - loss: 0.0512 - accuracy: 0.9813 - val_loss: 0.0303 - val_accuracy: 0.9928\n",
      "Epoch 4/20\n",
      "34/34 [==============================] - 144s 4s/step - loss: 0.0592 - accuracy: 0.9766 - val_loss: 0.0314 - val_accuracy: 0.9928\n",
      "Epoch 5/20\n",
      "34/34 [==============================] - 144s 4s/step - loss: 0.0523 - accuracy: 0.9794 - val_loss: 0.0319 - val_accuracy: 0.9928\n",
      "Epoch 6/20\n",
      "34/34 [==============================] - 145s 4s/step - loss: 0.0493 - accuracy: 0.9841 - val_loss: 0.0330 - val_accuracy: 0.9928\n",
      "Epoch 7/20\n",
      "34/34 [==============================] - 152s 4s/step - loss: 0.0331 - accuracy: 0.9860 - val_loss: 0.0355 - val_accuracy: 0.9891\n",
      "Epoch 8/20\n",
      "34/34 [==============================] - 161s 5s/step - loss: 0.0400 - accuracy: 0.9831 - val_loss: 0.0350 - val_accuracy: 0.9928\n",
      "Epoch 9/20\n",
      "34/34 [==============================] - 154s 5s/step - loss: 0.0223 - accuracy: 0.9888 - val_loss: 0.0346 - val_accuracy: 0.9928\n",
      "Epoch 10/20\n",
      "34/34 [==============================] - 146s 4s/step - loss: 0.0196 - accuracy: 0.9906 - val_loss: 0.0331 - val_accuracy: 0.9928\n",
      "Epoch 11/20\n",
      "34/34 [==============================] - 147s 4s/step - loss: 0.0155 - accuracy: 0.9945 - val_loss: 0.0347 - val_accuracy: 0.9928\n",
      "Epoch 12/20\n",
      "34/34 [==============================] - 155s 5s/step - loss: 0.0459 - accuracy: 0.9847 - val_loss: 0.0365 - val_accuracy: 0.9928\n",
      "Epoch 13/20\n",
      "34/34 [==============================] - 155s 5s/step - loss: 0.0330 - accuracy: 0.9871 - val_loss: 0.0367 - val_accuracy: 0.9928\n",
      "Epoch 14/20\n",
      "34/34 [==============================] - 151s 4s/step - loss: 0.0471 - accuracy: 0.9888 - val_loss: 0.0423 - val_accuracy: 0.9891\n",
      "Epoch 15/20\n",
      "34/34 [==============================] - 153s 4s/step - loss: 0.0193 - accuracy: 0.9944 - val_loss: 0.0409 - val_accuracy: 0.9891\n",
      "Epoch 16/20\n",
      "34/34 [==============================] - 145s 4s/step - loss: 0.0329 - accuracy: 0.9906 - val_loss: 0.0392 - val_accuracy: 0.9928\n",
      "Epoch 17/20\n",
      "34/34 [==============================] - 147s 4s/step - loss: 0.0204 - accuracy: 0.9924 - val_loss: 0.0448 - val_accuracy: 0.9891\n",
      "Epoch 18/20\n",
      "34/34 [==============================] - 149s 4s/step - loss: 0.0153 - accuracy: 0.9945 - val_loss: 0.0473 - val_accuracy: 0.9891\n",
      "Epoch 19/20\n",
      "34/34 [==============================] - 144s 4s/step - loss: 0.0137 - accuracy: 0.9963 - val_loss: 0.0428 - val_accuracy: 0.9928\n",
      "Epoch 20/20\n",
      "34/34 [==============================] - 145s 4s/step - loss: 0.0334 - accuracy: 0.9878 - val_loss: 0.0412 - val_accuracy: 0.9928\n"
     ]
    }
   ],
   "source": [
    "# train the head of the network\n",
    "print(\"[INFO] training head...\")\n",
    "H = model.fit(\n",
    "\taug.flow(trainX, trainY, batch_size=BS),\n",
    "\tsteps_per_epoch=len(trainX) // BS,\n",
    "\tvalidation_data=(testX, testY),\n",
    "\tvalidation_steps=len(testX) // BS,\n",
    "\tepochs=EPOCHS)"
   ]
  },
  {
   "cell_type": "code",
   "execution_count": 32,
   "metadata": {},
   "outputs": [
    {
     "name": "stdout",
     "output_type": "stream",
     "text": [
      "evaluating network...\n",
      "                      precision    recall  f1-score   support\n",
      "\n",
      "   dataset/with_mask       0.99      0.99      0.99       138\n",
      "dataset/without_mask       0.99      0.99      0.99       138\n",
      "\n",
      "           micro avg       0.99      0.99      0.99       276\n",
      "           macro avg       0.99      0.99      0.99       276\n",
      "        weighted avg       0.99      0.99      0.99       276\n",
      "\n"
     ]
    }
   ],
   "source": [
    "from sklearn.metrics import classification_report\n",
    "\n",
    "# make predictions on the testing set\n",
    "print(\"evaluating network...\")\n",
    "predIdxs = model.predict(testX, batch_size=BS)\n",
    "\n",
    "# for each image in the testing set we need to find the index of the\n",
    "# label with corresponding largest predicted probability\n",
    "predIdxs = np.argmax(predIdxs, axis=1)\n",
    "\n",
    "# show a nicely formatted classification report\n",
    "print(classification_report(testY.argmax(axis=1), predIdxs,\n",
    "\ttarget_names=lb.classes_))\n",
    "\n"
   ]
  },
  {
   "cell_type": "code",
   "execution_count": 33,
   "metadata": {},
   "outputs": [
    {
     "name": "stdout",
     "output_type": "stream",
     "text": [
      "saving mask detector model...\n"
     ]
    }
   ],
   "source": [
    "# serialize the model to disk\n",
    "print(\"saving mask detector model...\")\n",
    "model.save('face_mask_detector1.model.h5')"
   ]
  },
  {
   "cell_type": "code",
   "execution_count": 29,
   "metadata": {},
   "outputs": [
    {
     "data": {
      "image/png": "[encoded data removed]",
      "text/plain": [
       "<Figure size 432x288 with 1 Axes>"
      ]
     },
     "metadata": {},
     "output_type": "display_data"
    }
   ],
   "source": [
    "# plot the training loss and accuracy\n",
    "N = EPOCHS\n",
    "plt.style.use(\"ggplot\")\n",
    "plt.figure()\n",
    "plt.plot(np.arange(0, N), H.history[\"loss\"], label=\"train_loss\")\n",
    "plt.plot(np.arange(0, N), H.history[\"val_loss\"], label=\"val_loss\")\n",
    "plt.plot(np.arange(0, N), H.history[\"accuracy\"], label=\"train_acc\")\n",
    "plt.plot(np.arange(0, N), H.history[\"val_accuracy\"], label=\"val_acc\")\n",
    "plt.title(\"Training Loss and Accuracy\")\n",
    "plt.xlabel(\"Epoch #\")\n",
    "plt.ylabel(\"Loss/Accuracy\")\n",
    "plt.legend(loc=\"lower left\")\n",
    "plt.show()"
   ]
  },
  {
   "cell_type": "code",
   "execution_count": null,
   "metadata": {},
   "outputs": [],
   "source": []
  }
 ],
 "metadata": {
  "kernelspec": {
   "display_name": "Python 3",
   "language": "python",
   "name": "python3"
  },
  "language_info": {
   "codemirror_mode": {
    "name": "ipython",
    "version": 3
   },
   "file_extension": ".py",
   "mimetype": "text/x-python",
   "name": "python",
   "nbconvert_exporter": "python",
   "pygments_lexer": "ipython3",
   "version": "3.7.3"
  }
 },
 "nbformat": 4,
 "nbformat_minor": 2
}
